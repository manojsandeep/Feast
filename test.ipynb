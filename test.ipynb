{
  "nbformat": 4,
  "nbformat_minor": 0,
  "metadata": {
    "colab": {
      "name": "Untitled2.ipynb",
      "provenance": [],
      "authorship_tag": "ABX9TyMXlEOnn+oiDqF6bd8Jtfq8",
      "include_colab_link": true
    },
    "kernelspec": {
      "name": "python3",
      "display_name": "Python 3"
    },
    "language_info": {
      "name": "python"
    }
  },
  "cells": [
    {
      "cell_type": "markdown",
      "metadata": {
        "id": "view-in-github",
        "colab_type": "text"
      },
      "source": [
        "<a href=\"https://colab.research.google.com/github/manojsandeep/Feast/blob/main/test.ipynb\" target=\"_parent\"><img src=\"https://colab.research.google.com/assets/colab-badge.svg\" alt=\"Open In Colab\"/></a>"
      ]
    },
    {
      "cell_type": "code",
      "execution_count": null,
      "metadata": {
        "colab": {
          "base_uri": "https://localhost:8080/",
          "height": 1000
        },
        "id": "bs-ozjVhCBsQ",
        "outputId": "4a6d1d86-1a61-43be-b2e6-eee9a1d96ef4"
      },
      "outputs": [
        {
          "output_type": "stream",
          "name": "stdout",
          "text": [
            "Collecting feast\n",
            "  Downloading feast-0.21.2-cp37-cp37m-manylinux_2_17_x86_64.manylinux2014_x86_64.whl (15.3 MB)\n",
            "\u001b[K     |████████████████████████████████| 15.3 MB 5.3 MB/s \n",
            "\u001b[?25hCollecting mmh3\n",
            "  Downloading mmh3-3.0.0-cp37-cp37m-manylinux2010_x86_64.whl (50 kB)\n",
            "\u001b[K     |████████████████████████████████| 50 kB 5.8 MB/s \n",
            "\u001b[?25hCollecting pandavro==1.5.*\n",
            "  Downloading pandavro-1.5.2.tar.gz (3.8 kB)\n",
            "Collecting dask<2022.02.0,>=2021.*\n",
            "  Downloading dask-2022.1.1-py3-none-any.whl (1.1 MB)\n",
            "\u001b[K     |████████████████████████████████| 1.1 MB 46.4 MB/s \n",
            "\u001b[?25hRequirement already satisfied: click<8.0.2,>=7.0.0 in /usr/local/lib/python3.7/dist-packages (from feast) (7.1.2)\n",
            "Requirement already satisfied: tenacity<9,>=7 in /usr/local/lib/python3.7/dist-packages (from feast) (8.0.1)\n",
            "Requirement already satisfied: jsonschema in /usr/local/lib/python3.7/dist-packages (from feast) (4.3.3)\n",
            "Requirement already satisfied: protobuf<3.20,>=3.10 in /usr/local/lib/python3.7/dist-packages (from feast) (3.17.3)\n",
            "Requirement already satisfied: tabulate==0.8.* in /usr/local/lib/python3.7/dist-packages (from feast) (0.8.9)\n",
            "Collecting fastapi<1,>=0.68.0\n",
            "  Downloading fastapi-0.78.0-py3-none-any.whl (54 kB)\n",
            "\u001b[K     |████████████████████████████████| 54 kB 3.3 MB/s \n",
            "\u001b[?25hRequirement already satisfied: google-api-core<3,>=1.23.0 in /usr/local/lib/python3.7/dist-packages (from feast) (1.31.5)\n",
            "Collecting proto-plus<1.19.7\n",
            "  Downloading proto_plus-1.19.6-py3-none-any.whl (45 kB)\n",
            "\u001b[K     |████████████████████████████████| 45 kB 3.6 MB/s \n",
            "\u001b[?25hRequirement already satisfied: dill==0.3.* in /usr/local/lib/python3.7/dist-packages (from feast) (0.3.4)\n",
            "Collecting pydantic<2,>=1\n",
            "  Downloading pydantic-1.9.1-cp37-cp37m-manylinux_2_17_x86_64.manylinux2014_x86_64.whl (11.1 MB)\n",
            "\u001b[K     |████████████████████████████████| 11.1 MB 43.2 MB/s \n",
            "\u001b[?25hCollecting uvicorn[standard]<1,>=0.14.0\n",
            "  Downloading uvicorn-0.17.6-py3-none-any.whl (53 kB)\n",
            "\u001b[K     |████████████████████████████████| 53 kB 2.1 MB/s \n",
            "\u001b[?25hCollecting toml==0.10.*\n",
            "  Downloading toml-0.10.2-py2.py3-none-any.whl (16 kB)\n",
            "Requirement already satisfied: numpy<1.22,<2 in /usr/local/lib/python3.7/dist-packages (from feast) (1.21.6)\n",
            "Requirement already satisfied: Jinja2<4,>=2 in /usr/local/lib/python3.7/dist-packages (from feast) (2.11.3)\n",
            "Requirement already satisfied: tensorflow-metadata<2.0.0,>=1.0.0 in /usr/local/lib/python3.7/dist-packages (from feast) (1.8.0)\n",
            "Collecting grpcio-reflection<2,>=1.34.0\n",
            "  Downloading grpcio_reflection-1.46.3-py3-none-any.whl (16 kB)\n",
            "Requirement already satisfied: grpcio<2,>=1.34.0 in /usr/local/lib/python3.7/dist-packages (from feast) (1.46.1)\n",
            "Collecting googleapis-common-protos<2,==1.52.*\n",
            "  Downloading googleapis_common_protos-1.52.0-py2.py3-none-any.whl (100 kB)\n",
            "\u001b[K     |████████████████████████████████| 100 kB 8.3 MB/s \n",
            "\u001b[?25hCollecting fastavro<2,>=1.1.0\n",
            "  Downloading fastavro-1.4.12-cp37-cp37m-manylinux_2_17_x86_64.manylinux2014_x86_64.whl (2.3 MB)\n",
            "\u001b[K     |████████████████████████████████| 2.3 MB 34.6 MB/s \n",
            "\u001b[?25hRequirement already satisfied: pyarrow<7,>=4 in /usr/local/lib/python3.7/dist-packages (from feast) (6.0.1)\n",
            "Requirement already satisfied: pandas<2,>=1 in /usr/local/lib/python3.7/dist-packages (from feast) (1.3.5)\n",
            "Collecting PyYAML<7,>=5.4.*\n",
            "  Downloading PyYAML-6.0-cp37-cp37m-manylinux_2_5_x86_64.manylinux1_x86_64.manylinux_2_12_x86_64.manylinux2010_x86_64.whl (596 kB)\n",
            "\u001b[K     |████████████████████████████████| 596 kB 64.8 MB/s \n",
            "\u001b[?25hRequirement already satisfied: tqdm==4.* in /usr/local/lib/python3.7/dist-packages (from feast) (4.64.0)\n",
            "Collecting colorama<1,>=0.3.9\n",
            "  Downloading colorama-0.4.4-py2.py3-none-any.whl (16 kB)\n",
            "Requirement already satisfied: six>=1.9 in /usr/local/lib/python3.7/dist-packages (from pandavro==1.5.*->feast) (1.15.0)\n",
            "Requirement already satisfied: cloudpickle>=1.1.1 in /usr/local/lib/python3.7/dist-packages (from dask<2022.02.0,>=2021.*->feast) (1.3.0)\n",
            "Collecting fsspec>=0.6.0\n",
            "  Downloading fsspec-2022.5.0-py3-none-any.whl (140 kB)\n",
            "\u001b[K     |████████████████████████████████| 140 kB 54.8 MB/s \n",
            "\u001b[?25hRequirement already satisfied: toolz>=0.8.2 in /usr/local/lib/python3.7/dist-packages (from dask<2022.02.0,>=2021.*->feast) (0.11.2)\n",
            "Collecting partd>=0.3.10\n",
            "  Downloading partd-1.2.0-py3-none-any.whl (19 kB)\n",
            "Requirement already satisfied: packaging>=20.0 in /usr/local/lib/python3.7/dist-packages (from dask<2022.02.0,>=2021.*->feast) (21.3)\n",
            "Collecting starlette==0.19.1\n",
            "  Downloading starlette-0.19.1-py3-none-any.whl (63 kB)\n",
            "\u001b[K     |████████████████████████████████| 63 kB 2.0 MB/s \n",
            "\u001b[?25hRequirement already satisfied: typing-extensions>=3.10.0 in /usr/local/lib/python3.7/dist-packages (from starlette==0.19.1->fastapi<1,>=0.68.0->feast) (4.2.0)\n",
            "Collecting anyio<5,>=3.4.0\n",
            "  Downloading anyio-3.6.1-py3-none-any.whl (80 kB)\n",
            "\u001b[K     |████████████████████████████████| 80 kB 10.1 MB/s \n",
            "\u001b[?25hRequirement already satisfied: idna>=2.8 in /usr/local/lib/python3.7/dist-packages (from anyio<5,>=3.4.0->starlette==0.19.1->fastapi<1,>=0.68.0->feast) (2.10)\n",
            "Collecting sniffio>=1.1\n",
            "  Downloading sniffio-1.2.0-py3-none-any.whl (10 kB)\n",
            "Requirement already satisfied: requests<3.0.0dev,>=2.18.0 in /usr/local/lib/python3.7/dist-packages (from google-api-core<3,>=1.23.0->feast) (2.23.0)\n",
            "Requirement already satisfied: setuptools>=40.3.0 in /usr/local/lib/python3.7/dist-packages (from google-api-core<3,>=1.23.0->feast) (57.4.0)\n",
            "Requirement already satisfied: pytz in /usr/local/lib/python3.7/dist-packages (from google-api-core<3,>=1.23.0->feast) (2022.1)\n",
            "Requirement already satisfied: google-auth<2.0dev,>=1.25.0 in /usr/local/lib/python3.7/dist-packages (from google-api-core<3,>=1.23.0->feast) (1.35.0)\n",
            "Requirement already satisfied: rsa<5,>=3.1.4 in /usr/local/lib/python3.7/dist-packages (from google-auth<2.0dev,>=1.25.0->google-api-core<3,>=1.23.0->feast) (4.8)\n",
            "Requirement already satisfied: cachetools<5.0,>=2.0.0 in /usr/local/lib/python3.7/dist-packages (from google-auth<2.0dev,>=1.25.0->google-api-core<3,>=1.23.0->feast) (4.2.4)\n",
            "Requirement already satisfied: pyasn1-modules>=0.2.1 in /usr/local/lib/python3.7/dist-packages (from google-auth<2.0dev,>=1.25.0->google-api-core<3,>=1.23.0->feast) (0.2.8)\n",
            "Collecting grpcio<2,>=1.34.0\n",
            "  Downloading grpcio-1.46.3-cp37-cp37m-manylinux_2_17_x86_64.manylinux2014_x86_64.whl (4.4 MB)\n",
            "\u001b[K     |████████████████████████████████| 4.4 MB 40.9 MB/s \n",
            "\u001b[?25hRequirement already satisfied: MarkupSafe>=0.23 in /usr/local/lib/python3.7/dist-packages (from Jinja2<4,>=2->feast) (2.0.1)\n",
            "Requirement already satisfied: pyparsing!=3.0.5,>=2.0.2 in /usr/local/lib/python3.7/dist-packages (from packaging>=20.0->dask<2022.02.0,>=2021.*->feast) (3.0.9)\n",
            "Requirement already satisfied: python-dateutil>=2.7.3 in /usr/local/lib/python3.7/dist-packages (from pandas<2,>=1->feast) (2.8.2)\n",
            "Collecting locket\n",
            "  Downloading locket-1.0.0-py2.py3-none-any.whl (4.4 kB)\n",
            "Requirement already satisfied: pyasn1<0.5.0,>=0.4.6 in /usr/local/lib/python3.7/dist-packages (from pyasn1-modules>=0.2.1->google-auth<2.0dev,>=1.25.0->google-api-core<3,>=1.23.0->feast) (0.4.8)\n",
            "Requirement already satisfied: urllib3!=1.25.0,!=1.25.1,<1.26,>=1.21.1 in /usr/local/lib/python3.7/dist-packages (from requests<3.0.0dev,>=2.18.0->google-api-core<3,>=1.23.0->feast) (1.24.3)\n",
            "Requirement already satisfied: certifi>=2017.4.17 in /usr/local/lib/python3.7/dist-packages (from requests<3.0.0dev,>=2.18.0->google-api-core<3,>=1.23.0->feast) (2021.10.8)\n",
            "Requirement already satisfied: chardet<4,>=3.0.2 in /usr/local/lib/python3.7/dist-packages (from requests<3.0.0dev,>=2.18.0->google-api-core<3,>=1.23.0->feast) (3.0.4)\n",
            "Requirement already satisfied: absl-py<2.0.0,>=0.9 in /usr/local/lib/python3.7/dist-packages (from tensorflow-metadata<2.0.0,>=1.0.0->feast) (1.0.0)\n",
            "Collecting asgiref>=3.4.0\n",
            "  Downloading asgiref-3.5.2-py3-none-any.whl (22 kB)\n",
            "Collecting h11>=0.8\n",
            "  Downloading h11-0.13.0-py3-none-any.whl (58 kB)\n",
            "\u001b[K     |████████████████████████████████| 58 kB 6.0 MB/s \n",
            "\u001b[?25hCollecting watchgod>=0.6\n",
            "  Downloading watchgod-0.8.2-py3-none-any.whl (12 kB)\n",
            "Collecting websockets>=10.0\n",
            "  Downloading websockets-10.3-cp37-cp37m-manylinux_2_5_x86_64.manylinux1_x86_64.manylinux_2_12_x86_64.manylinux2010_x86_64.whl (112 kB)\n",
            "\u001b[K     |████████████████████████████████| 112 kB 45.7 MB/s \n",
            "\u001b[?25hCollecting python-dotenv>=0.13\n",
            "  Downloading python_dotenv-0.20.0-py3-none-any.whl (17 kB)\n",
            "Collecting httptools>=0.4.0\n",
            "  Downloading httptools-0.4.0-cp37-cp37m-manylinux_2_5_x86_64.manylinux1_x86_64.manylinux_2_12_x86_64.manylinux2010_x86_64.whl (406 kB)\n",
            "\u001b[K     |████████████████████████████████| 406 kB 56.5 MB/s \n",
            "\u001b[?25hCollecting uvloop!=0.15.0,!=0.15.1,>=0.14.0\n",
            "  Downloading uvloop-0.16.0-cp37-cp37m-manylinux_2_12_x86_64.manylinux2010_x86_64.whl (3.8 MB)\n",
            "\u001b[K     |████████████████████████████████| 3.8 MB 44.5 MB/s \n",
            "\u001b[?25hRequirement already satisfied: pyrsistent!=0.17.0,!=0.17.1,!=0.17.2,>=0.14.0 in /usr/local/lib/python3.7/dist-packages (from jsonschema->feast) (0.18.1)\n",
            "Requirement already satisfied: attrs>=17.4.0 in /usr/local/lib/python3.7/dist-packages (from jsonschema->feast) (21.4.0)\n",
            "Requirement already satisfied: importlib-resources>=1.4.0 in /usr/local/lib/python3.7/dist-packages (from jsonschema->feast) (5.7.1)\n",
            "Requirement already satisfied: importlib-metadata in /usr/local/lib/python3.7/dist-packages (from jsonschema->feast) (4.11.3)\n",
            "Requirement already satisfied: zipp>=3.1.0 in /usr/local/lib/python3.7/dist-packages (from importlib-resources>=1.4.0->jsonschema->feast) (3.8.0)\n",
            "Building wheels for collected packages: pandavro\n",
            "  Building wheel for pandavro (setup.py) ... \u001b[?25l\u001b[?25hdone\n",
            "  Created wheel for pandavro: filename=pandavro-1.5.2-py3-none-any.whl size=2953 sha256=141d8383500d0239431a1f46c133ad10f2880ca6e2d182b58a66b943ee68d413\n",
            "  Stored in directory: /root/.cache/pip/wheels/33/3f/96/9f1b46a9f7f6043ff4741b1aa1a7b249ba33be4dc1d08843e4\n",
            "Successfully built pandavro\n",
            "Installing collected packages: sniffio, locket, h11, asgiref, anyio, websockets, watchgod, uvloop, uvicorn, starlette, PyYAML, python-dotenv, pydantic, partd, httptools, grpcio, googleapis-common-protos, fsspec, fastavro, toml, proto-plus, pandavro, mmh3, grpcio-reflection, fastapi, dask, colorama, feast\n",
            "  Attempting uninstall: PyYAML\n",
            "    Found existing installation: PyYAML 3.13\n",
            "    Uninstalling PyYAML-3.13:\n",
            "      Successfully uninstalled PyYAML-3.13\n",
            "  Attempting uninstall: grpcio\n",
            "    Found existing installation: grpcio 1.46.1\n",
            "    Uninstalling grpcio-1.46.1:\n",
            "      Successfully uninstalled grpcio-1.46.1\n",
            "  Attempting uninstall: googleapis-common-protos\n",
            "    Found existing installation: googleapis-common-protos 1.56.1\n",
            "    Uninstalling googleapis-common-protos-1.56.1:\n",
            "      Successfully uninstalled googleapis-common-protos-1.56.1\n",
            "  Attempting uninstall: dask\n",
            "    Found existing installation: dask 2.12.0\n",
            "    Uninstalling dask-2.12.0:\n",
            "      Successfully uninstalled dask-2.12.0\n",
            "\u001b[31mERROR: pip's dependency resolver does not currently take into account all the packages that are installed. This behaviour is the source of the following dependency conflicts.\n",
            "tensorflow 2.8.0+zzzcolab20220506162203 requires tf-estimator-nightly==2.8.0.dev2021122109, which is not installed.\u001b[0m\n",
            "Successfully installed PyYAML-6.0 anyio-3.6.1 asgiref-3.5.2 colorama-0.4.4 dask-2022.1.1 fastapi-0.78.0 fastavro-1.4.12 feast-0.21.2 fsspec-2022.5.0 googleapis-common-protos-1.52.0 grpcio-1.46.3 grpcio-reflection-1.46.3 h11-0.13.0 httptools-0.4.0 locket-1.0.0 mmh3-3.0.0 pandavro-1.5.2 partd-1.2.0 proto-plus-1.19.6 pydantic-1.9.1 python-dotenv-0.20.0 sniffio-1.2.0 starlette-0.19.1 toml-0.10.2 uvicorn-0.17.6 uvloop-0.16.0 watchgod-0.8.2 websockets-10.3\n"
          ]
        },
        {
          "output_type": "display_data",
          "data": {
            "application/vnd.colab-display-data+json": {
              "pip_warning": {
                "packages": [
                  "google"
                ]
              }
            }
          },
          "metadata": {}
        }
      ],
      "source": [
        "pip install feast"
      ]
    },
    {
      "cell_type": "code",
      "source": [
        "pip install feast "
      ],
      "metadata": {
        "colab": {
          "base_uri": "https://localhost:8080/",
          "height": 1000
        },
        "id": "SYLtSdz6CVKt",
        "outputId": "6d8ba2da-5bac-46b5-81e2-572e6469bc5a"
      },
      "execution_count": 3,
      "outputs": [
        {
          "output_type": "stream",
          "name": "stdout",
          "text": [
            "Looking in indexes: https://pypi.org/simple, https://us-python.pkg.dev/colab-wheels/public/simple/\n",
            "Collecting feast\n",
            "  Downloading feast-0.21.2-cp37-cp37m-manylinux_2_17_x86_64.manylinux2014_x86_64.whl (15.3 MB)\n",
            "\u001b[K     |████████████████████████████████| 15.3 MB 3.7 MB/s \n",
            "\u001b[?25hCollecting colorama<1,>=0.3.9\n",
            "  Downloading colorama-0.4.4-py2.py3-none-any.whl (16 kB)\n",
            "Requirement already satisfied: jsonschema in /usr/local/lib/python3.7/dist-packages (from feast) (4.3.3)\n",
            "Requirement already satisfied: protobuf<3.20,>=3.10 in /usr/local/lib/python3.7/dist-packages (from feast) (3.17.3)\n",
            "Collecting PyYAML<7,>=5.4.*\n",
            "  Downloading PyYAML-6.0-cp37-cp37m-manylinux_2_5_x86_64.manylinux1_x86_64.manylinux_2_12_x86_64.manylinux2010_x86_64.whl (596 kB)\n",
            "\u001b[K     |████████████████████████████████| 596 kB 45.5 MB/s \n",
            "\u001b[?25hCollecting fastapi<1,>=0.68.0\n",
            "  Downloading fastapi-0.78.0-py3-none-any.whl (54 kB)\n",
            "\u001b[K     |████████████████████████████████| 54 kB 2.2 MB/s \n",
            "\u001b[?25hCollecting toml==0.10.*\n",
            "  Downloading toml-0.10.2-py2.py3-none-any.whl (16 kB)\n",
            "Requirement already satisfied: grpcio<2,>=1.34.0 in /usr/local/lib/python3.7/dist-packages (from feast) (1.46.1)\n",
            "Requirement already satisfied: click<8.0.2,>=7.0.0 in /usr/local/lib/python3.7/dist-packages (from feast) (7.1.2)\n",
            "Collecting pandavro==1.5.*\n",
            "  Downloading pandavro-1.5.2.tar.gz (3.8 kB)\n",
            "Requirement already satisfied: dill==0.3.* in /usr/local/lib/python3.7/dist-packages (from feast) (0.3.5.1)\n",
            "Collecting pydantic<2,>=1\n",
            "  Downloading pydantic-1.9.1-cp37-cp37m-manylinux_2_17_x86_64.manylinux2014_x86_64.whl (11.1 MB)\n",
            "\u001b[K     |████████████████████████████████| 11.1 MB 49.0 MB/s \n",
            "\u001b[?25hRequirement already satisfied: tensorflow-metadata<2.0.0,>=1.0.0 in /usr/local/lib/python3.7/dist-packages (from feast) (1.8.0)\n",
            "Requirement already satisfied: pandas<2,>=1 in /usr/local/lib/python3.7/dist-packages (from feast) (1.3.5)\n",
            "Requirement already satisfied: pyarrow<7,>=4 in /usr/local/lib/python3.7/dist-packages (from feast) (6.0.1)\n",
            "Collecting dask<2022.02.0,>=2021.*\n",
            "  Downloading dask-2022.1.1-py3-none-any.whl (1.1 MB)\n",
            "\u001b[K     |████████████████████████████████| 1.1 MB 42.9 MB/s \n",
            "\u001b[?25hRequirement already satisfied: google-api-core<3,>=1.23.0 in /usr/local/lib/python3.7/dist-packages (from feast) (1.31.5)\n",
            "Collecting googleapis-common-protos<2,==1.52.*\n",
            "  Downloading googleapis_common_protos-1.52.0-py2.py3-none-any.whl (100 kB)\n",
            "\u001b[K     |████████████████████████████████| 100 kB 10.2 MB/s \n",
            "\u001b[?25hRequirement already satisfied: Jinja2<4,>=2 in /usr/local/lib/python3.7/dist-packages (from feast) (2.11.3)\n",
            "Collecting mmh3\n",
            "  Downloading mmh3-3.0.0-cp37-cp37m-manylinux2010_x86_64.whl (50 kB)\n",
            "\u001b[K     |████████████████████████████████| 50 kB 6.8 MB/s \n",
            "\u001b[?25hRequirement already satisfied: numpy<1.22,<2 in /usr/local/lib/python3.7/dist-packages (from feast) (1.21.6)\n",
            "Requirement already satisfied: tabulate==0.8.* in /usr/local/lib/python3.7/dist-packages (from feast) (0.8.9)\n",
            "Collecting uvicorn[standard]<1,>=0.14.0\n",
            "  Downloading uvicorn-0.17.6-py3-none-any.whl (53 kB)\n",
            "\u001b[K     |████████████████████████████████| 53 kB 1.6 MB/s \n",
            "\u001b[?25hCollecting grpcio-reflection<2,>=1.34.0\n",
            "  Downloading grpcio_reflection-1.46.3-py3-none-any.whl (16 kB)\n",
            "Requirement already satisfied: tenacity<9,>=7 in /usr/local/lib/python3.7/dist-packages (from feast) (8.0.1)\n",
            "Collecting proto-plus<1.19.7\n",
            "  Downloading proto_plus-1.19.6-py3-none-any.whl (45 kB)\n",
            "\u001b[K     |████████████████████████████████| 45 kB 2.6 MB/s \n",
            "\u001b[?25hRequirement already satisfied: tqdm==4.* in /usr/local/lib/python3.7/dist-packages (from feast) (4.64.0)\n",
            "Collecting fastavro<2,>=1.1.0\n",
            "  Downloading fastavro-1.4.12-cp37-cp37m-manylinux_2_17_x86_64.manylinux2014_x86_64.whl (2.3 MB)\n",
            "\u001b[K     |████████████████████████████████| 2.3 MB 43.1 MB/s \n",
            "\u001b[?25hRequirement already satisfied: six>=1.9 in /usr/local/lib/python3.7/dist-packages (from pandavro==1.5.*->feast) (1.15.0)\n",
            "Requirement already satisfied: toolz>=0.8.2 in /usr/local/lib/python3.7/dist-packages (from dask<2022.02.0,>=2021.*->feast) (0.11.2)\n",
            "Requirement already satisfied: cloudpickle>=1.1.1 in /usr/local/lib/python3.7/dist-packages (from dask<2022.02.0,>=2021.*->feast) (1.3.0)\n",
            "Requirement already satisfied: packaging>=20.0 in /usr/local/lib/python3.7/dist-packages (from dask<2022.02.0,>=2021.*->feast) (21.3)\n",
            "Collecting partd>=0.3.10\n",
            "  Downloading partd-1.2.0-py3-none-any.whl (19 kB)\n",
            "Collecting fsspec>=0.6.0\n",
            "  Downloading fsspec-2022.5.0-py3-none-any.whl (140 kB)\n",
            "\u001b[K     |████████████████████████████████| 140 kB 58.6 MB/s \n",
            "\u001b[?25hCollecting starlette==0.19.1\n",
            "  Downloading starlette-0.19.1-py3-none-any.whl (63 kB)\n",
            "\u001b[K     |████████████████████████████████| 63 kB 1.6 MB/s \n",
            "\u001b[?25hCollecting anyio<5,>=3.4.0\n",
            "  Downloading anyio-3.6.1-py3-none-any.whl (80 kB)\n",
            "\u001b[K     |████████████████████████████████| 80 kB 9.7 MB/s \n",
            "\u001b[?25hRequirement already satisfied: typing-extensions>=3.10.0 in /usr/local/lib/python3.7/dist-packages (from starlette==0.19.1->fastapi<1,>=0.68.0->feast) (4.2.0)\n",
            "Requirement already satisfied: idna>=2.8 in /usr/local/lib/python3.7/dist-packages (from anyio<5,>=3.4.0->starlette==0.19.1->fastapi<1,>=0.68.0->feast) (2.10)\n",
            "Collecting sniffio>=1.1\n",
            "  Downloading sniffio-1.2.0-py3-none-any.whl (10 kB)\n",
            "Requirement already satisfied: requests<3.0.0dev,>=2.18.0 in /usr/local/lib/python3.7/dist-packages (from google-api-core<3,>=1.23.0->feast) (2.23.0)\n",
            "Requirement already satisfied: setuptools>=40.3.0 in /usr/local/lib/python3.7/dist-packages (from google-api-core<3,>=1.23.0->feast) (57.4.0)\n",
            "Requirement already satisfied: google-auth<2.0dev,>=1.25.0 in /usr/local/lib/python3.7/dist-packages (from google-api-core<3,>=1.23.0->feast) (1.35.0)\n",
            "Requirement already satisfied: pytz in /usr/local/lib/python3.7/dist-packages (from google-api-core<3,>=1.23.0->feast) (2022.1)\n",
            "Requirement already satisfied: cachetools<5.0,>=2.0.0 in /usr/local/lib/python3.7/dist-packages (from google-auth<2.0dev,>=1.25.0->google-api-core<3,>=1.23.0->feast) (4.2.4)\n",
            "Requirement already satisfied: rsa<5,>=3.1.4 in /usr/local/lib/python3.7/dist-packages (from google-auth<2.0dev,>=1.25.0->google-api-core<3,>=1.23.0->feast) (4.8)\n",
            "Requirement already satisfied: pyasn1-modules>=0.2.1 in /usr/local/lib/python3.7/dist-packages (from google-auth<2.0dev,>=1.25.0->google-api-core<3,>=1.23.0->feast) (0.2.8)\n",
            "Collecting grpcio<2,>=1.34.0\n",
            "  Downloading grpcio-1.46.3-cp37-cp37m-manylinux_2_17_x86_64.manylinux2014_x86_64.whl (4.4 MB)\n",
            "\u001b[K     |████████████████████████████████| 4.4 MB 58.8 MB/s \n",
            "\u001b[?25hRequirement already satisfied: MarkupSafe>=0.23 in /usr/local/lib/python3.7/dist-packages (from Jinja2<4,>=2->feast) (2.0.1)\n",
            "Requirement already satisfied: pyparsing!=3.0.5,>=2.0.2 in /usr/local/lib/python3.7/dist-packages (from packaging>=20.0->dask<2022.02.0,>=2021.*->feast) (3.0.9)\n",
            "Requirement already satisfied: python-dateutil>=2.7.3 in /usr/local/lib/python3.7/dist-packages (from pandas<2,>=1->feast) (2.8.2)\n",
            "Collecting locket\n",
            "  Downloading locket-1.0.0-py2.py3-none-any.whl (4.4 kB)\n",
            "Requirement already satisfied: pyasn1<0.5.0,>=0.4.6 in /usr/local/lib/python3.7/dist-packages (from pyasn1-modules>=0.2.1->google-auth<2.0dev,>=1.25.0->google-api-core<3,>=1.23.0->feast) (0.4.8)\n",
            "Requirement already satisfied: certifi>=2017.4.17 in /usr/local/lib/python3.7/dist-packages (from requests<3.0.0dev,>=2.18.0->google-api-core<3,>=1.23.0->feast) (2022.5.18.1)\n",
            "Requirement already satisfied: urllib3!=1.25.0,!=1.25.1,<1.26,>=1.21.1 in /usr/local/lib/python3.7/dist-packages (from requests<3.0.0dev,>=2.18.0->google-api-core<3,>=1.23.0->feast) (1.24.3)\n",
            "Requirement already satisfied: chardet<4,>=3.0.2 in /usr/local/lib/python3.7/dist-packages (from requests<3.0.0dev,>=2.18.0->google-api-core<3,>=1.23.0->feast) (3.0.4)\n",
            "Requirement already satisfied: absl-py<2.0.0,>=0.9 in /usr/local/lib/python3.7/dist-packages (from tensorflow-metadata<2.0.0,>=1.0.0->feast) (1.0.0)\n",
            "Collecting asgiref>=3.4.0\n",
            "  Downloading asgiref-3.5.2-py3-none-any.whl (22 kB)\n",
            "Collecting h11>=0.8\n",
            "  Downloading h11-0.13.0-py3-none-any.whl (58 kB)\n",
            "\u001b[K     |████████████████████████████████| 58 kB 4.9 MB/s \n",
            "\u001b[?25hCollecting uvloop!=0.15.0,!=0.15.1,>=0.14.0\n",
            "  Downloading uvloop-0.16.0-cp37-cp37m-manylinux_2_12_x86_64.manylinux2010_x86_64.whl (3.8 MB)\n",
            "\u001b[K     |████████████████████████████████| 3.8 MB 10.1 MB/s \n",
            "\u001b[?25hCollecting watchgod>=0.6\n",
            "  Downloading watchgod-0.8.2-py3-none-any.whl (12 kB)\n",
            "Collecting python-dotenv>=0.13\n",
            "  Downloading python_dotenv-0.20.0-py3-none-any.whl (17 kB)\n",
            "Collecting httptools>=0.4.0\n",
            "  Downloading httptools-0.4.0-cp37-cp37m-manylinux_2_5_x86_64.manylinux1_x86_64.manylinux_2_12_x86_64.manylinux2010_x86_64.whl (406 kB)\n",
            "\u001b[K     |████████████████████████████████| 406 kB 57.4 MB/s \n",
            "\u001b[?25hCollecting websockets>=10.0\n",
            "  Downloading websockets-10.3-cp37-cp37m-manylinux_2_5_x86_64.manylinux1_x86_64.manylinux_2_12_x86_64.manylinux2010_x86_64.whl (112 kB)\n",
            "\u001b[K     |████████████████████████████████| 112 kB 69.9 MB/s \n",
            "\u001b[?25hRequirement already satisfied: importlib-resources>=1.4.0 in /usr/local/lib/python3.7/dist-packages (from jsonschema->feast) (5.7.1)\n",
            "Requirement already satisfied: pyrsistent!=0.17.0,!=0.17.1,!=0.17.2,>=0.14.0 in /usr/local/lib/python3.7/dist-packages (from jsonschema->feast) (0.18.1)\n",
            "Requirement already satisfied: importlib-metadata in /usr/local/lib/python3.7/dist-packages (from jsonschema->feast) (4.11.3)\n",
            "Requirement already satisfied: attrs>=17.4.0 in /usr/local/lib/python3.7/dist-packages (from jsonschema->feast) (21.4.0)\n",
            "Requirement already satisfied: zipp>=3.1.0 in /usr/local/lib/python3.7/dist-packages (from importlib-resources>=1.4.0->jsonschema->feast) (3.8.0)\n",
            "Building wheels for collected packages: pandavro\n",
            "  Building wheel for pandavro (setup.py) ... \u001b[?25l\u001b[?25hdone\n",
            "  Created wheel for pandavro: filename=pandavro-1.5.2-py3-none-any.whl size=2953 sha256=e48bacc68723edc6be52ef9da0776c0bb2dae442411daeb295d7b2c41eabde61\n",
            "  Stored in directory: /root/.cache/pip/wheels/33/3f/96/9f1b46a9f7f6043ff4741b1aa1a7b249ba33be4dc1d08843e4\n",
            "Successfully built pandavro\n",
            "Installing collected packages: sniffio, locket, h11, asgiref, anyio, websockets, watchgod, uvloop, uvicorn, starlette, PyYAML, python-dotenv, pydantic, partd, httptools, grpcio, googleapis-common-protos, fsspec, fastavro, toml, proto-plus, pandavro, mmh3, grpcio-reflection, fastapi, dask, colorama, feast\n",
            "  Attempting uninstall: PyYAML\n",
            "    Found existing installation: PyYAML 3.13\n",
            "    Uninstalling PyYAML-3.13:\n",
            "      Successfully uninstalled PyYAML-3.13\n",
            "  Attempting uninstall: grpcio\n",
            "    Found existing installation: grpcio 1.46.1\n",
            "    Uninstalling grpcio-1.46.1:\n",
            "      Successfully uninstalled grpcio-1.46.1\n",
            "  Attempting uninstall: googleapis-common-protos\n",
            "    Found existing installation: googleapis-common-protos 1.56.1\n",
            "    Uninstalling googleapis-common-protos-1.56.1:\n",
            "      Successfully uninstalled googleapis-common-protos-1.56.1\n",
            "  Attempting uninstall: dask\n",
            "    Found existing installation: dask 2.12.0\n",
            "    Uninstalling dask-2.12.0:\n",
            "      Successfully uninstalled dask-2.12.0\n",
            "\u001b[31mERROR: pip's dependency resolver does not currently take into account all the packages that are installed. This behaviour is the source of the following dependency conflicts.\n",
            "tensorflow 2.8.0+zzzcolab20220506162203 requires tf-estimator-nightly==2.8.0.dev2021122109, which is not installed.\u001b[0m\n",
            "Successfully installed PyYAML-6.0 anyio-3.6.1 asgiref-3.5.2 colorama-0.4.4 dask-2022.1.1 fastapi-0.78.0 fastavro-1.4.12 feast-0.21.2 fsspec-2022.5.0 googleapis-common-protos-1.52.0 grpcio-1.46.3 grpcio-reflection-1.46.3 h11-0.13.0 httptools-0.4.0 locket-1.0.0 mmh3-3.0.0 pandavro-1.5.2 partd-1.2.0 proto-plus-1.19.6 pydantic-1.9.1 python-dotenv-0.20.0 sniffio-1.2.0 starlette-0.19.1 toml-0.10.2 uvicorn-0.17.6 uvloop-0.16.0 watchgod-0.8.2 websockets-10.3\n"
          ]
        },
        {
          "output_type": "display_data",
          "data": {
            "application/vnd.colab-display-data+json": {
              "pip_warning": {
                "packages": [
                  "google"
                ]
              }
            }
          },
          "metadata": {}
        }
      ]
    },
    {
      "cell_type": "markdown",
      "source": [
        "# New Section"
      ],
      "metadata": {
        "id": "0eiu-_I-njKr"
      }
    },
    {
      "cell_type": "code",
      "source": [
        "pip install Pygments -q"
      ],
      "metadata": {
        "id": "AHTVUmLlC_MY"
      },
      "execution_count": null,
      "outputs": []
    },
    {
      "cell_type": "code",
      "source": [
        "!feast init feature_repo"
      ],
      "metadata": {
        "colab": {
          "base_uri": "https://localhost:8080/"
        },
        "id": "YnlUTSdcDEap",
        "outputId": "469b83a2-37b0-43b4-d6e5-401388358cdf"
      },
      "execution_count": null,
      "outputs": [
        {
          "output_type": "stream",
          "name": "stdout",
          "text": [
            "/usr/local/lib/python3.7/dist-packages/scipy/fft/__init__.py:97: DeprecationWarning: The module numpy.dual is deprecated.  Instead of using dual, use the functions directly from numpy or scipy.\n",
            "  from numpy.dual import register_func\n",
            "/usr/local/lib/python3.7/dist-packages/scipy/sparse/sputils.py:17: DeprecationWarning: `np.typeDict` is a deprecated alias for `np.sctypeDict`.\n",
            "  supported_dtypes = [np.typeDict[x] for x in supported_dtypes]\n",
            "The directory \u001b[1m\u001b[32mfeature_repo\u001b[0m contains an existing feature store repository that may cause a conflict\n",
            "\n"
          ]
        }
      ]
    },
    {
      "cell_type": "code",
      "source": [
        "%cd feature_repo\n",
        "!ls -R"
      ],
      "metadata": {
        "colab": {
          "base_uri": "https://localhost:8080/"
        },
        "id": "M2gCJDOCDiz2",
        "outputId": "efa8d668-80eb-41ae-d9ba-5136d83b8e41"
      },
      "execution_count": null,
      "outputs": [
        {
          "output_type": "stream",
          "name": "stdout",
          "text": [
            "[Errno 2] No such file or directory: 'feature_repo'\n",
            "/content/feature_repo\n",
            ".:\n",
            "data  example.py  feature_store.yaml  __init__.py\n",
            "\n",
            "./data:\n",
            "driver_stats.parquet\n"
          ]
        }
      ]
    },
    {
      "cell_type": "code",
      "source": [
        "!pygmentize feature_store.yaml"
      ],
      "metadata": {
        "colab": {
          "base_uri": "https://localhost:8080/"
        },
        "id": "3xV5juBNE8Hp",
        "outputId": "ec32b3b8-0777-49fe-9819-ee3bafac5bc7"
      },
      "execution_count": null,
      "outputs": [
        {
          "output_type": "stream",
          "name": "stdout",
          "text": [
            "\u001b[94mproject\u001b[39;49;00m: feature_repo\n",
            "\u001b[94mregistry\u001b[39;49;00m: data/registry.db\n",
            "\u001b[94mprovider\u001b[39;49;00m: local\n",
            "\u001b[94monline_store\u001b[39;49;00m:\n",
            "    \u001b[94mpath\u001b[39;49;00m: data/online_store.db\n"
          ]
        }
      ]
    },
    {
      "cell_type": "code",
      "source": [
        "import pandas as pd\n",
        "\n",
        "pd.read_parquet(\"data/driver_stats.parquet\")"
      ],
      "metadata": {
        "colab": {
          "base_uri": "https://localhost:8080/",
          "height": 655
        },
        "id": "0ZDBpCKtFkoK",
        "outputId": "fdf7e332-69f5-4503-fe74-c751db86e79c"
      },
      "execution_count": null,
      "outputs": [
        {
          "output_type": "execute_result",
          "data": {
            "text/plain": [
              "               event_timestamp  driver_id  conv_rate  acc_rate  \\\n",
              "0    2022-05-08 08:00:00+00:00       1005   0.371093  0.722507   \n",
              "1    2022-05-08 09:00:00+00:00       1005   0.078679  0.359595   \n",
              "2    2022-05-08 10:00:00+00:00       1005   0.827634  0.623856   \n",
              "3    2022-05-08 11:00:00+00:00       1005   0.679775  0.101998   \n",
              "4    2022-05-08 12:00:00+00:00       1005   0.766683  0.019708   \n",
              "...                        ...        ...        ...       ...   \n",
              "1802 2022-05-23 06:00:00+00:00       1001   0.870514  0.901378   \n",
              "1803 2022-05-23 07:00:00+00:00       1001   0.228735  0.048571   \n",
              "1804 2021-04-12 07:00:00+00:00       1001   0.582355  0.702526   \n",
              "1805 2022-05-15 20:00:00+00:00       1003   0.510384  0.808822   \n",
              "1806 2022-05-15 20:00:00+00:00       1003   0.510384  0.808822   \n",
              "\n",
              "      avg_daily_trips                 created  \n",
              "0                 932 2022-05-23 08:33:52.621  \n",
              "1                 857 2022-05-23 08:33:52.621  \n",
              "2                 625 2022-05-23 08:33:52.621  \n",
              "3                 817 2022-05-23 08:33:52.621  \n",
              "4                 521 2022-05-23 08:33:52.621  \n",
              "...               ...                     ...  \n",
              "1802              411 2022-05-23 08:33:52.621  \n",
              "1803              267 2022-05-23 08:33:52.621  \n",
              "1804              474 2022-05-23 08:33:52.621  \n",
              "1805              453 2022-05-23 08:33:52.621  \n",
              "1806              453 2022-05-23 08:33:52.621  \n",
              "\n",
              "[1807 rows x 6 columns]"
            ],
            "text/html": [
              "\n",
              "  <div id=\"df-4d684b60-fa23-4f82-be8c-0dd13730013a\">\n",
              "    <div class=\"colab-df-container\">\n",
              "      <div>\n",
              "<style scoped>\n",
              "    .dataframe tbody tr th:only-of-type {\n",
              "        vertical-align: middle;\n",
              "    }\n",
              "\n",
              "    .dataframe tbody tr th {\n",
              "        vertical-align: top;\n",
              "    }\n",
              "\n",
              "    .dataframe thead th {\n",
              "        text-align: right;\n",
              "    }\n",
              "</style>\n",
              "<table border=\"1\" class=\"dataframe\">\n",
              "  <thead>\n",
              "    <tr style=\"text-align: right;\">\n",
              "      <th></th>\n",
              "      <th>event_timestamp</th>\n",
              "      <th>driver_id</th>\n",
              "      <th>conv_rate</th>\n",
              "      <th>acc_rate</th>\n",
              "      <th>avg_daily_trips</th>\n",
              "      <th>created</th>\n",
              "    </tr>\n",
              "  </thead>\n",
              "  <tbody>\n",
              "    <tr>\n",
              "      <th>0</th>\n",
              "      <td>2022-05-08 08:00:00+00:00</td>\n",
              "      <td>1005</td>\n",
              "      <td>0.371093</td>\n",
              "      <td>0.722507</td>\n",
              "      <td>932</td>\n",
              "      <td>2022-05-23 08:33:52.621</td>\n",
              "    </tr>\n",
              "    <tr>\n",
              "      <th>1</th>\n",
              "      <td>2022-05-08 09:00:00+00:00</td>\n",
              "      <td>1005</td>\n",
              "      <td>0.078679</td>\n",
              "      <td>0.359595</td>\n",
              "      <td>857</td>\n",
              "      <td>2022-05-23 08:33:52.621</td>\n",
              "    </tr>\n",
              "    <tr>\n",
              "      <th>2</th>\n",
              "      <td>2022-05-08 10:00:00+00:00</td>\n",
              "      <td>1005</td>\n",
              "      <td>0.827634</td>\n",
              "      <td>0.623856</td>\n",
              "      <td>625</td>\n",
              "      <td>2022-05-23 08:33:52.621</td>\n",
              "    </tr>\n",
              "    <tr>\n",
              "      <th>3</th>\n",
              "      <td>2022-05-08 11:00:00+00:00</td>\n",
              "      <td>1005</td>\n",
              "      <td>0.679775</td>\n",
              "      <td>0.101998</td>\n",
              "      <td>817</td>\n",
              "      <td>2022-05-23 08:33:52.621</td>\n",
              "    </tr>\n",
              "    <tr>\n",
              "      <th>4</th>\n",
              "      <td>2022-05-08 12:00:00+00:00</td>\n",
              "      <td>1005</td>\n",
              "      <td>0.766683</td>\n",
              "      <td>0.019708</td>\n",
              "      <td>521</td>\n",
              "      <td>2022-05-23 08:33:52.621</td>\n",
              "    </tr>\n",
              "    <tr>\n",
              "      <th>...</th>\n",
              "      <td>...</td>\n",
              "      <td>...</td>\n",
              "      <td>...</td>\n",
              "      <td>...</td>\n",
              "      <td>...</td>\n",
              "      <td>...</td>\n",
              "    </tr>\n",
              "    <tr>\n",
              "      <th>1802</th>\n",
              "      <td>2022-05-23 06:00:00+00:00</td>\n",
              "      <td>1001</td>\n",
              "      <td>0.870514</td>\n",
              "      <td>0.901378</td>\n",
              "      <td>411</td>\n",
              "      <td>2022-05-23 08:33:52.621</td>\n",
              "    </tr>\n",
              "    <tr>\n",
              "      <th>1803</th>\n",
              "      <td>2022-05-23 07:00:00+00:00</td>\n",
              "      <td>1001</td>\n",
              "      <td>0.228735</td>\n",
              "      <td>0.048571</td>\n",
              "      <td>267</td>\n",
              "      <td>2022-05-23 08:33:52.621</td>\n",
              "    </tr>\n",
              "    <tr>\n",
              "      <th>1804</th>\n",
              "      <td>2021-04-12 07:00:00+00:00</td>\n",
              "      <td>1001</td>\n",
              "      <td>0.582355</td>\n",
              "      <td>0.702526</td>\n",
              "      <td>474</td>\n",
              "      <td>2022-05-23 08:33:52.621</td>\n",
              "    </tr>\n",
              "    <tr>\n",
              "      <th>1805</th>\n",
              "      <td>2022-05-15 20:00:00+00:00</td>\n",
              "      <td>1003</td>\n",
              "      <td>0.510384</td>\n",
              "      <td>0.808822</td>\n",
              "      <td>453</td>\n",
              "      <td>2022-05-23 08:33:52.621</td>\n",
              "    </tr>\n",
              "    <tr>\n",
              "      <th>1806</th>\n",
              "      <td>2022-05-15 20:00:00+00:00</td>\n",
              "      <td>1003</td>\n",
              "      <td>0.510384</td>\n",
              "      <td>0.808822</td>\n",
              "      <td>453</td>\n",
              "      <td>2022-05-23 08:33:52.621</td>\n",
              "    </tr>\n",
              "  </tbody>\n",
              "</table>\n",
              "<p>1807 rows × 6 columns</p>\n",
              "</div>\n",
              "      <button class=\"colab-df-convert\" onclick=\"convertToInteractive('df-4d684b60-fa23-4f82-be8c-0dd13730013a')\"\n",
              "              title=\"Convert this dataframe to an interactive table.\"\n",
              "              style=\"display:none;\">\n",
              "        \n",
              "  <svg xmlns=\"http://www.w3.org/2000/svg\" height=\"24px\"viewBox=\"0 0 24 24\"\n",
              "       width=\"24px\">\n",
              "    <path d=\"M0 0h24v24H0V0z\" fill=\"none\"/>\n",
              "    <path d=\"M18.56 5.44l.94 2.06.94-2.06 2.06-.94-2.06-.94-.94-2.06-.94 2.06-2.06.94zm-11 1L8.5 8.5l.94-2.06 2.06-.94-2.06-.94L8.5 2.5l-.94 2.06-2.06.94zm10 10l.94 2.06.94-2.06 2.06-.94-2.06-.94-.94-2.06-.94 2.06-2.06.94z\"/><path d=\"M17.41 7.96l-1.37-1.37c-.4-.4-.92-.59-1.43-.59-.52 0-1.04.2-1.43.59L10.3 9.45l-7.72 7.72c-.78.78-.78 2.05 0 2.83L4 21.41c.39.39.9.59 1.41.59.51 0 1.02-.2 1.41-.59l7.78-7.78 2.81-2.81c.8-.78.8-2.07 0-2.86zM5.41 20L4 18.59l7.72-7.72 1.47 1.35L5.41 20z\"/>\n",
              "  </svg>\n",
              "      </button>\n",
              "      \n",
              "  <style>\n",
              "    .colab-df-container {\n",
              "      display:flex;\n",
              "      flex-wrap:wrap;\n",
              "      gap: 12px;\n",
              "    }\n",
              "\n",
              "    .colab-df-convert {\n",
              "      background-color: #E8F0FE;\n",
              "      border: none;\n",
              "      border-radius: 50%;\n",
              "      cursor: pointer;\n",
              "      display: none;\n",
              "      fill: #1967D2;\n",
              "      height: 32px;\n",
              "      padding: 0 0 0 0;\n",
              "      width: 32px;\n",
              "    }\n",
              "\n",
              "    .colab-df-convert:hover {\n",
              "      background-color: #E2EBFA;\n",
              "      box-shadow: 0px 1px 2px rgba(60, 64, 67, 0.3), 0px 1px 3px 1px rgba(60, 64, 67, 0.15);\n",
              "      fill: #174EA6;\n",
              "    }\n",
              "\n",
              "    [theme=dark] .colab-df-convert {\n",
              "      background-color: #3B4455;\n",
              "      fill: #D2E3FC;\n",
              "    }\n",
              "\n",
              "    [theme=dark] .colab-df-convert:hover {\n",
              "      background-color: #434B5C;\n",
              "      box-shadow: 0px 1px 3px 1px rgba(0, 0, 0, 0.15);\n",
              "      filter: drop-shadow(0px 1px 2px rgba(0, 0, 0, 0.3));\n",
              "      fill: #FFFFFF;\n",
              "    }\n",
              "  </style>\n",
              "\n",
              "      <script>\n",
              "        const buttonEl =\n",
              "          document.querySelector('#df-4d684b60-fa23-4f82-be8c-0dd13730013a button.colab-df-convert');\n",
              "        buttonEl.style.display =\n",
              "          google.colab.kernel.accessAllowed ? 'block' : 'none';\n",
              "\n",
              "        async function convertToInteractive(key) {\n",
              "          const element = document.querySelector('#df-4d684b60-fa23-4f82-be8c-0dd13730013a');\n",
              "          const dataTable =\n",
              "            await google.colab.kernel.invokeFunction('convertToInteractive',\n",
              "                                                     [key], {});\n",
              "          if (!dataTable) return;\n",
              "\n",
              "          const docLinkHtml = 'Like what you see? Visit the ' +\n",
              "            '<a target=\"_blank\" href=https://colab.research.google.com/notebooks/data_table.ipynb>data table notebook</a>'\n",
              "            + ' to learn more about interactive tables.';\n",
              "          element.innerHTML = '';\n",
              "          dataTable['output_type'] = 'display_data';\n",
              "          await google.colab.output.renderOutput(dataTable, element);\n",
              "          const docLink = document.createElement('div');\n",
              "          docLink.innerHTML = docLinkHtml;\n",
              "          element.appendChild(docLink);\n",
              "        }\n",
              "      </script>\n",
              "    </div>\n",
              "  </div>\n",
              "  "
            ]
          },
          "metadata": {},
          "execution_count": 17
        }
      ]
    },
    {
      "cell_type": "code",
      "source": [
        "!feast apply"
      ],
      "metadata": {
        "colab": {
          "base_uri": "https://localhost:8080/"
        },
        "id": "i4y7XYoPGA8X",
        "outputId": "8684e6cb-bfda-4e18-d41d-3222b9d7cfb9"
      },
      "execution_count": null,
      "outputs": [
        {
          "output_type": "stream",
          "name": "stdout",
          "text": [
            "/usr/local/lib/python3.7/dist-packages/scipy/fft/__init__.py:97: DeprecationWarning: The module numpy.dual is deprecated.  Instead of using dual, use the functions directly from numpy or scipy.\n",
            "  from numpy.dual import register_func\n",
            "/usr/local/lib/python3.7/dist-packages/scipy/sparse/sputils.py:17: DeprecationWarning: `np.typeDict` is a deprecated alias for `np.sctypeDict`.\n",
            "  supported_dtypes = [np.typeDict[x] for x in supported_dtypes]\n",
            "Created entity \u001b[1m\u001b[32mdriver\u001b[0m\n",
            "Created feature view \u001b[1m\u001b[32mdriver_hourly_stats\u001b[0m\n",
            "Created feature service \u001b[1m\u001b[32mdriver_activity\u001b[0m\n",
            "\n",
            "Created sqlite table \u001b[1m\u001b[32mfeature_repo_driver_hourly_stats\u001b[0m\n",
            "\n"
          ]
        }
      ]
    },
    {
      "cell_type": "code",
      "source": [
        "!pygmentize -f terminal16m example.py"
      ],
      "metadata": {
        "colab": {
          "base_uri": "https://localhost:8080/"
        },
        "id": "z1JysrMmGcv4",
        "outputId": "81c5021d-0131-4450-fb96-568e9655c244"
      },
      "execution_count": null,
      "outputs": [
        {
          "output_type": "stream",
          "name": "stdout",
          "text": [
            "\u001b[38;2;64;128;128;03m# This is an example feature definition file\u001b[39;00m\n",
            "\n",
            "\u001b[38;2;0;128;0;01mfrom\u001b[39;00m \u001b[38;2;0;0;255;01mdatetime\u001b[39;00m \u001b[38;2;0;128;0;01mimport\u001b[39;00m timedelta\n",
            "\n",
            "\u001b[38;2;0;128;0;01mfrom\u001b[39;00m \u001b[38;2;0;0;255;01mfeast\u001b[39;00m \u001b[38;2;0;128;0;01mimport\u001b[39;00m Entity, FeatureService, FeatureView, Field, FileSource, ValueType\n",
            "\u001b[38;2;0;128;0;01mfrom\u001b[39;00m \u001b[38;2;0;0;255;01mfeast\u001b[39;00m\u001b[38;2;0;0;255;01m.\u001b[39;00m\u001b[38;2;0;0;255;01mtypes\u001b[39;00m \u001b[38;2;0;128;0;01mimport\u001b[39;00m Float32, Int64\n",
            "\n",
            "\u001b[38;2;64;128;128;03m# Read data from parquet files. Parquet is convenient for local development mode. For\u001b[39;00m\n",
            "\u001b[38;2;64;128;128;03m# production, you can use your favorite DWH, such as BigQuery. See Feast documentation\u001b[39;00m\n",
            "\u001b[38;2;64;128;128;03m# for more info.\u001b[39;00m\n",
            "driver_hourly_stats \u001b[38;2;102;102;102m=\u001b[39m FileSource(\n",
            "    path\u001b[38;2;102;102;102m=\u001b[39m\u001b[38;2;186;33;33m\"\u001b[39m\u001b[38;2;186;33;33m/content/feature_repo/data/driver_stats.parquet\u001b[39m\u001b[38;2;186;33;33m\"\u001b[39m,\n",
            "    timestamp_field\u001b[38;2;102;102;102m=\u001b[39m\u001b[38;2;186;33;33m\"\u001b[39m\u001b[38;2;186;33;33mevent_timestamp\u001b[39m\u001b[38;2;186;33;33m\"\u001b[39m,\n",
            "    created_timestamp_column\u001b[38;2;102;102;102m=\u001b[39m\u001b[38;2;186;33;33m\"\u001b[39m\u001b[38;2;186;33;33mcreated\u001b[39m\u001b[38;2;186;33;33m\"\u001b[39m,\n",
            ")\n",
            "\n",
            "\u001b[38;2;64;128;128;03m# Define an entity for the driver. You can think of entity as a primary key used to\u001b[39;00m\n",
            "\u001b[38;2;64;128;128;03m# fetch features.\u001b[39;00m\n",
            "driver \u001b[38;2;102;102;102m=\u001b[39m Entity(name\u001b[38;2;102;102;102m=\u001b[39m\u001b[38;2;186;33;33m\"\u001b[39m\u001b[38;2;186;33;33mdriver\u001b[39m\u001b[38;2;186;33;33m\"\u001b[39m, join_keys\u001b[38;2;102;102;102m=\u001b[39m[\u001b[38;2;186;33;33m\"\u001b[39m\u001b[38;2;186;33;33mdriver_id\u001b[39m\u001b[38;2;186;33;33m\"\u001b[39m], value_type\u001b[38;2;102;102;102m=\u001b[39mValueType\u001b[38;2;102;102;102m.\u001b[39mINT64,)\n",
            "\n",
            "\u001b[38;2;64;128;128;03m# Our parquet files contain sample data that includes a driver_id column, timestamps and\u001b[39;00m\n",
            "\u001b[38;2;64;128;128;03m# three feature column. Here we define a Feature View that will allow us to serve this\u001b[39;00m\n",
            "\u001b[38;2;64;128;128;03m# data to our model online.\u001b[39;00m\n",
            "driver_hourly_stats_view \u001b[38;2;102;102;102m=\u001b[39m FeatureView(\n",
            "    name\u001b[38;2;102;102;102m=\u001b[39m\u001b[38;2;186;33;33m\"\u001b[39m\u001b[38;2;186;33;33mdriver_hourly_stats\u001b[39m\u001b[38;2;186;33;33m\"\u001b[39m,\n",
            "    entities\u001b[38;2;102;102;102m=\u001b[39m[\u001b[38;2;186;33;33m\"\u001b[39m\u001b[38;2;186;33;33mdriver\u001b[39m\u001b[38;2;186;33;33m\"\u001b[39m],\n",
            "    ttl\u001b[38;2;102;102;102m=\u001b[39mtimedelta(days\u001b[38;2;102;102;102m=\u001b[39m\u001b[38;2;102;102;102m1\u001b[39m),\n",
            "    schema\u001b[38;2;102;102;102m=\u001b[39m[\n",
            "        Field(name\u001b[38;2;102;102;102m=\u001b[39m\u001b[38;2;186;33;33m\"\u001b[39m\u001b[38;2;186;33;33mconv_rate\u001b[39m\u001b[38;2;186;33;33m\"\u001b[39m, dtype\u001b[38;2;102;102;102m=\u001b[39mFloat32),\n",
            "        Field(name\u001b[38;2;102;102;102m=\u001b[39m\u001b[38;2;186;33;33m\"\u001b[39m\u001b[38;2;186;33;33macc_rate\u001b[39m\u001b[38;2;186;33;33m\"\u001b[39m, dtype\u001b[38;2;102;102;102m=\u001b[39mFloat32),\n",
            "        Field(name\u001b[38;2;102;102;102m=\u001b[39m\u001b[38;2;186;33;33m\"\u001b[39m\u001b[38;2;186;33;33mavg_daily_trips\u001b[39m\u001b[38;2;186;33;33m\"\u001b[39m, dtype\u001b[38;2;102;102;102m=\u001b[39mInt64),\n",
            "    ],\n",
            "    online\u001b[38;2;102;102;102m=\u001b[39m\u001b[38;2;0;128;0;01mTrue\u001b[39;00m,\n",
            "    source\u001b[38;2;102;102;102m=\u001b[39mdriver_hourly_stats,\n",
            "    tags\u001b[38;2;102;102;102m=\u001b[39m{},\n",
            ")\n",
            "\n",
            "driver_stats_fs \u001b[38;2;102;102;102m=\u001b[39m FeatureService(\n",
            "    name\u001b[38;2;102;102;102m=\u001b[39m\u001b[38;2;186;33;33m\"\u001b[39m\u001b[38;2;186;33;33mdriver_activity\u001b[39m\u001b[38;2;186;33;33m\"\u001b[39m, features\u001b[38;2;102;102;102m=\u001b[39m[driver_hourly_stats_view]\n",
            ")\n"
          ]
        }
      ]
    },
    {
      "cell_type": "code",
      "source": [
        "!feast ui"
      ],
      "metadata": {
        "colab": {
          "base_uri": "https://localhost:8080/"
        },
        "id": "RcwB53L5G1E3",
        "outputId": "affa5a3d-d2ec-4227-aa1f-1ac2e968894d"
      },
      "execution_count": 2,
      "outputs": [
        {
          "output_type": "stream",
          "name": "stdout",
          "text": [
            "/bin/bash: feast: command not found\n"
          ]
        }
      ]
    },
    {
      "cell_type": "code",
      "source": [
        "!feast apply"
      ],
      "metadata": {
        "colab": {
          "base_uri": "https://localhost:8080/"
        },
        "id": "rX5KAD38HyMp",
        "outputId": "16f9e422-85cd-4a1a-cf2c-837837c1c7df"
      },
      "execution_count": null,
      "outputs": [
        {
          "output_type": "stream",
          "name": "stdout",
          "text": [
            "/usr/local/lib/python3.7/dist-packages/scipy/fft/__init__.py:97: DeprecationWarning: The module numpy.dual is deprecated.  Instead of using dual, use the functions directly from numpy or scipy.\n",
            "  from numpy.dual import register_func\n",
            "/usr/local/lib/python3.7/dist-packages/scipy/sparse/sputils.py:17: DeprecationWarning: `np.typeDict` is a deprecated alias for `np.sctypeDict`.\n",
            "  supported_dtypes = [np.typeDict[x] for x in supported_dtypes]\n",
            "\u001b[1m\u001b[94mNo changes to registry\n",
            "\u001b[1m\u001b[94mNo changes to infrastructure\n"
          ]
        }
      ]
    }
  ]
}